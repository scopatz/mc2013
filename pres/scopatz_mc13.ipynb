{
 "metadata": {
  "name": "scopatz_mc13"
 },
 "nbformat": 3,
 "nbformat_minor": 0,
 "worksheets": [
  {
   "cells": [
    {
     "cell_type": "markdown",
     "metadata": {
      "slideshow": {
       "slide_type": "slide"
      }
     },
     "source": [
      "<div style=\"text-align:center\">\n",
      "<h1>First & Second Order Approximations to Stage Numbers in Multi-component Enrichment Cascades</h1>\n",
      "<h2>M&C 2013</h2>\n",
      "</div>\n",
      "<div style=\"text-align:center\">Dr. Anthony Michael Scopatz</div>\n",
      "<div style=\"text-align:center\">The University of Chicago, The Flash Center for Computational Science</div>\n",
      "<div style=\"text-align:center\">Sun Valley, ID, May 6th, 2013</div>"
     ]
    },
    {
     "cell_type": "code",
     "collapsed": false,
     "input": [
      "import os\n",
      "import numpy as np\n",
      "import matplotlib\n",
      "matplotlib.rc('font', family='serif', size=16)\n",
      "import matplotlib.pyplot as plt\n",
      "from IPython.display import *\n",
      "from utils import htmltable"
     ],
     "language": "python",
     "metadata": {
      "slideshow": {
       "slide_type": "skip"
      }
     },
     "outputs": [],
     "prompt_number": 1
    },
    {
     "cell_type": "markdown",
     "metadata": {
      "slideshow": {
       "slide_type": "slide"
      }
     },
     "source": [
      "## Enrichment\n",
      "\n",
      "This talk describes a novel and fast method for computing the Matched Abunance Ratio Cascade (MARC) equations.  \n",
      "\n",
      "It is also about the tradeoffs needed to make this method fast.\n",
      "\n",
      "<div style=\"text-align:center;\"><img src=\"http://upload.wikimedia.org/wikipedia/commons/thumb/6/69/Gas_centrifuge_cascade.jpg/300px-Gas_centrifuge_cascade.jpg\" /></div>"
     ]
    },
    {
     "cell_type": "markdown",
     "metadata": {
      "slideshow": {
       "slide_type": "slide"
      }
     },
     "source": [
      "## Problem Description\n",
      "\n",
      "<div style=\"text-align:center;\"><img src=\"figs/enrichment_mstar_vs_flowrate.svg\" width=\"80%\" /><h3>Figure 1: Enrichment Optimization [1]</h3></div>"
     ]
    },
    {
     "cell_type": "code",
     "collapsed": false,
     "input": [
      "table = [\n",
      "    (\"Symbol\", \"Description\"),\n",
      "    (\"$F$, $P$, $T$, $L$\", \"Feed, Product, Tails, and Total Flow Rates\"), \n",
      "    (\"$i$, $j$, and $k$ subscripts\", \"$i$-th component nuclide and first and second key components\"),\n",
      "    (\"$0$ subscript\", \"Initial conditions value guess\"),\n",
      "    (\"$x_i$\", \"Mass fraction of $i$-th component\"),\n",
      "    (r\"$\\\\alpha$, $\\\\beta_i$\", \"Overall and nuclide stage separation factors\"),\n",
      "    (\"$N$\", \"Number of Stages\"), \n",
      "    (\"$M$\", \"Molecular Weight [amu]\"),\n",
      "    (\"$M^*$\", \"Optimization parameter\"),\n",
      "    ]\n",
      "meta, tab = htmltable(table, 'terminology', style={\"td\": {'text-align': 'left'}})\n",
      "print meta, tab"
     ],
     "language": "python",
     "metadata": {
      "slideshow": {
       "slide_type": "skip"
      }
     },
     "outputs": [
      {
       "output_type": "stream",
       "stream": "stdout",
       "text": [
        "<script type=\"text/javascript\">\n",
        "window.onload=function(){\n",
        "    var tfrow = document.getElementById('terminologyid').rows.length;\n",
        "    var tbRow=[];\n",
        "    for (var i=1;i<tfrow;i++) {\n",
        "        tbRow[i]=document.getElementById('terminologyid').rows[i];\n",
        "        tbRow[i].onmouseover = function(){this.style.backgroundColor = '#f3f8aa';};\n",
        "        tbRow[i].onmouseout = function() {this.style.backgroundColor = '#ffffff';};\n",
        "    }\n",
        "};\n",
        "</script>\n",
        "<style type=\"text/css\">\n",
        "table.terminologyclass {width:80%;border-color:#a9a9a9;color:#333333;border-collapse:collapse;margin:auto;border-width:1px;text-align:center;}\n",
        "table.terminologyclass th {padding:4px;border-style:solid;border-color:#a9a9a9;border-width:1px;background-color:#b8b8b8;text-align:left;}\n",
        "table.terminologyclass tr {background-color:#ffffff;text-align:center;}\n",
        "table.terminologyclass td {padding:4px;border-style:solid;border-color:#a9a9a9;border-width:1px;text-align:left;}\n",
        "</style>\n",
        "<table id=\"terminologyid\" class=\"terminologyclass\" border=\"1\">\n",
        "<tr><th>Symbol</th><th>Description</th></tr>\n",
        "<tr><td>$F$, $P$, $T$, $L$</td><td>Feed, Product, Tails, and Total Flow Rates</td></tr>\n",
        "<tr><td>$i$, $j$, and $k$ subscripts</td><td>$i$-th component nuclide and first and second key components</td></tr>\n",
        "<tr><td>$0$ subscript</td><td>Initial conditions value guess</td></tr>\n",
        "<tr><td>$x_i$</td><td>Mass fraction of $i$-th component</td></tr>\n",
        "<tr><td>$\\\\alpha$, $\\\\beta_i$</td><td>Overall and nuclide stage separation factors</td></tr>\n",
        "<tr><td>$N$</td><td>Number of Stages</td></tr>\n",
        "<tr><td>$M$</td><td>Molecular Weight [amu]</td></tr>\n",
        "<tr><td>$M^*$</td><td>Optimization parameter</td></tr>\n",
        "</table>\n"
       ]
      }
     ],
     "prompt_number": 2
    },
    {
     "cell_type": "markdown",
     "metadata": {
      "slideshow": {
       "slide_type": "slide"
      }
     },
     "source": [
      "## Terminology\n",
      "<script type=\"text/javascript\">\n",
      "window.onload=function(){\n",
      "    var tfrow = document.getElementById('terminologyid').rows.length;\n",
      "    var tbRow=[];\n",
      "    for (var i=1;i<tfrow;i++) {\n",
      "        tbRow[i]=document.getElementById('terminologyid').rows[i];\n",
      "        tbRow[i].onmouseover = function(){this.style.backgroundColor = '#f3f8aa';};\n",
      "        tbRow[i].onmouseout = function() {this.style.backgroundColor = '#ffffff';};\n",
      "    }\n",
      "};\n",
      "</script>\n",
      "<style type=\"text/css\">\n",
      "table.terminologyclass {width:80%;border-color:#a9a9a9;color:#333333;border-collapse:collapse;margin:auto;border-width:1px;text-align:center;}\n",
      "table.terminologyclass th {padding:4px;border-color:#a9a9a9;order-style:solid;border-width:1px;background-color:#b8b8b8;text-align:left;}\n",
      "table.terminologyclass tr {background-color:#ffffff;text-align:center;}\n",
      "table.terminologyclass td {padding:4px;border-style:solid;border-color:#a9a9a9;border-width:1px;text-align:left;}\n",
      "</style>\n",
      "<table id=\"terminologyid\" class=\"terminologyclass\" border=\"1\">\n",
      "<tr><th>Symbol</th><th>Description</th></tr>\n",
      "<tr><td>$F$, $P$, $T$, $L$</td><td>Feed, Product, Tails, and Total Flow Rates</td></tr>\n",
      "<tr><td>$i$, $j$, and $k$ subscripts</td><td>$i$-th component nuclide and first and second key components</td></tr>\n",
      "<tr><td>$0$ subscript</td><td>Initial conditions value guess</td></tr>\n",
      "<tr><td>$x_i$</td><td>Mass fraction of $i$-th component</td></tr>\n",
      "<tr><td>$\\\\alpha$, $\\\\beta_i$</td><td>Overall and nuclide stage separation factors</td></tr>\n",
      "<tr><td>$N$</td><td>Number of Stages</td></tr>\n",
      "<tr><td>$M$</td><td>Molecular Weight [amu]</td></tr>\n",
      "<tr><td>$M^*$</td><td>Optimization parameter</td></tr>\n",
      "</table>"
     ]
    },
    {
     "cell_type": "markdown",
     "metadata": {
      "slideshow": {
       "slide_type": "slide"
      }
     },
     "source": [
      "## MARC Equations\n",
      "\n",
      "The total flow rate normaizled by the feed flow rate may be computed from,\n",
      "\n",
      "<div style=\"text-align:center;\">\n",
      "$\\frac{L}{F} = \\sum_i^I \\frac{\\frac{P}{F}x_i^P\\ln\\left(\\frac{x_j^P}{x_k^P}\\right) + \\frac{T}{F}x_i^T\\ln\\left(\\frac{x_j^T}{x_k^T}\\right)\n",
      "                                 - x_i^F\\ln\\left(\\frac{x_j^F}{x_k^F}\\right)}\n",
      "                                {\\ln(\\beta_j)\\frac{\\beta_i - 1.0}{\\beta_i + 1.0}}$\n",
      "</div>"
     ]
    },
    {
     "cell_type": "markdown",
     "metadata": {
      "slideshow": {
       "slide_type": "slide"
      }
     },
     "source": [
      "## MARC Equations\n",
      "\n",
      "The following MARC constraints equations must then be solved for $N_P$, $N_T$, and $M^*$.\n",
      "\n",
      "<div style=\"text-align:center;\">\n",
      "$\\frac{x_j^P}{x_j^F}\\cdot\\frac{P}{F} - \\frac{\\beta_j^{N_T+1} - 1}{\\beta_j^{N_T+1} - \\beta_j^{-N_P}} = 0$\n",
      "</div>\n",
      "\n",
      "<div style=\"text-align:center;\">\n",
      "$\\left(\\frac{x_j^F}{\\frac{T}{F}} \\cdot \\frac{1 - \\beta_i^{-N_P}}{\\beta_j^{N_T+1} - \\beta_j^{-N_P}}\\right) - \\left(x_j^T\\cdot\\sum_i^{I} x_i^T\\right) = 0$\n",
      "</div>\n",
      "\n",
      "<div style=\"text-align:center;\">\n",
      "$\\min\\left[\\frac{L}{F}\\right]\\to \\frac{d}{dM^*} \\frac{L}{F} = 0$\n",
      "</div>"
     ]
    },
    {
     "cell_type": "markdown",
     "metadata": {
      "slideshow": {
       "slide_type": "slide"
      }
     },
     "source": [
      "## Problem Statement\n",
      "\n",
      "In PyNE, we wanted to build a very fast solver for this system (more or this later).  One major speed up is to reduce the system from 3 equations and 3 unknowns to 1 equation and 1 unknown -- namely $M^*$."
     ]
    },
    {
     "cell_type": "code",
     "collapsed": false,
     "input": [
      "table = [\n",
      "    (\"Nuclide\", \"VISION $x^F$ [2]\"),\n",
      "    ({\"style\": {\"text-align\": \"left\"}, \"value\": \"U-234\"}, \"0.00018\"),\n",
      "    ({\"style\": {\"text-align\": \"left\"}, \"value\": \"U-235\"}, \"0.00819\"),\n",
      "    ({\"style\": {\"text-align\": \"left\"}, \"value\": \"U-236\"}, \"0.00611\"),\n",
      "    ({\"style\": {\"text-align\": \"left\"}, \"value\": \"U-238\"}, \"0.98552\"),\n",
      "    ]\n",
      "meta, tab = htmltable(table, 'visionfeed', title=\"Table I. Feed flow concentrations for a four component uranium re-enrichment cascade.\", )\n",
      "print meta, tab"
     ],
     "language": "python",
     "metadata": {
      "slideshow": {
       "slide_type": "skip"
      }
     },
     "outputs": [
      {
       "output_type": "stream",
       "stream": "stdout",
       "text": [
        "<script type=\"text/javascript\">\n",
        "window.onload=function(){\n",
        "    var tfrow = document.getElementById('visionfeedid').rows.length;\n",
        "    var tbRow=[];\n",
        "    for (var i=1;i<tfrow;i++) {\n",
        "        tbRow[i]=document.getElementById('visionfeedid').rows[i];\n",
        "        tbRow[i].onmouseover = function(){this.style.backgroundColor = '#f3f8aa';};\n",
        "        tbRow[i].onmouseout = function() {this.style.backgroundColor = '#ffffff';};\n",
        "    }\n",
        "};\n",
        "</script>\n",
        "<style type=\"text/css\">\n",
        "table.visionfeedclass {width:80%;border-color:#a9a9a9;color:#333333;border-collapse:collapse;margin:auto;border-width:1px;text-align:center;}\n",
        "table.visionfeedclass th {padding:4px;border-style:solid;border-color:#a9a9a9;border-width:1px;background-color:#b8b8b8;text-align:left;}\n",
        "table.visionfeedclass tr {background-color:#ffffff;text-align:center;}\n",
        "table.visionfeedclass td {padding:4px;border-color:#a9a9a9;border-style:solid;border-width:1px;text-align:center;}\n",
        "</style>\n",
        "<div style=\"text-align:center;\"><b>Table I. Feed flow concentrations for a four component uranium re-enrichment cascade.</b></div>\n",
        "<table id=\"visionfeedid\" class=\"visionfeedclass\" border=\"1\">\n",
        "<tr><th>Nuclide</th><th>VISION $x^F$ [2]</th></tr>\n",
        "<tr><td style=\"text-align:left;\">U-234</td><td>0.00018</td></tr>\n",
        "<tr><td style=\"text-align:left;\">U-235</td><td>0.00819</td></tr>\n",
        "<tr><td style=\"text-align:left;\">U-236</td><td>0.00611</td></tr>\n",
        "<tr><td style=\"text-align:left;\">U-238</td><td>0.98552</td></tr>\n",
        "</table>\n"
       ]
      }
     ],
     "prompt_number": 3
    },
    {
     "cell_type": "markdown",
     "metadata": {
      "slideshow": {
       "slide_type": "fragment"
      }
     },
     "source": [
      "<script type=\"text/javascript\">\n",
      "window.onload=function(){\n",
      "    var tfrow = document.getElementById('visionfeedid').rows.length;\n",
      "    var tbRow=[];\n",
      "    for (var i=1;i<tfrow;i++) {\n",
      "        tbRow[i]=document.getElementById('visionfeedid').rows[i];\n",
      "        tbRow[i].onmouseover = function(){this.style.backgroundColor = '#f3f8aa';};\n",
      "        tbRow[i].onmouseout = function() {this.style.backgroundColor = '#ffffff';};\n",
      "    }\n",
      "};\n",
      "</script>\n",
      "<style type=\"text/css\">\n",
      "table.visionfeedclass {width:80%;border-color:#a9a9a9;color:#333333;border-collapse:collapse;margin:auto;border-width:1px;text-align:center;}\n",
      "table.visionfeedclass th {padding:4px;border-color:#a9a9a9;order-style:solid;border-width:1px;background-color:#b8b8b8;text-align:left;}\n",
      "table.visionfeedclass tr {background-color:#ffffff;text-align:center;}\n",
      "table.visionfeedclass td {padding:4px;border-color:#a9a9a9;border-style:solid;border-width:1px;text-align:center;}\n",
      "</style>\n",
      "<div style=\"text-align:center;\"><b>Table I. Feed flow concentrations for a four component uranium re-enrichment cascade.</b></div>\n",
      "<table id=\"visionfeedid\" class=\"visionfeedclass\" border=\"1\">\n",
      "<tr><th>Nuclide</th><th>VISION $x^F$ [2]</th></tr>\n",
      "<tr><td style=\"text-align:left;\">U-234</td><td>0.00018</td></tr>\n",
      "<tr><td style=\"text-align:left;\">U-235</td><td>0.00819</td></tr>\n",
      "<tr><td style=\"text-align:left;\">U-236</td><td>0.00611</td></tr>\n",
      "<tr><td style=\"text-align:left;\">U-238</td><td>0.98552</td></tr>\n",
      "</table>"
     ]
    },
    {
     "cell_type": "markdown",
     "metadata": {
      "slideshow": {
       "slide_type": "slide"
      }
     },
     "source": [
      "## Elimination of $N_T$\n",
      "\n",
      "Luckily, there is an analytic solution to $N_T(N_P, M^*)$\n",
      "\n",
      "<div style=\"text-align:center;\">\n",
      "$\\begin{array}{lcl}\n",
      "N_T & = & \\left[M^{\\star} \\log{\\left(\\alpha\\right)} - M_{j} \\log{\\left(\\alpha \\right)} + \\log{\\left(x^{T}_{j} \\right)} + \\log{\\left(\\frac{-1.0 + \\frac{x^{P}\\_{j}}{x^{F}\\_{j}}}{x^{P}\\_{j} - x^{T}_{j}} \\right)}  \\right. \\\\\n",
      "& & \\left. - \\log{\\left(\\frac{\\alpha^{N_{P} \\left(- M^{\\star} + M_{j}\\right)} \\left(x^{F}\\_{j} x^{P}\\_{j} - x^{P}\\_{j} x^{T}\\_{j}\\right)}{- x^{F}_{j} x^{P}_{j} + x^{F}\\_{j} x^{T}_{j}} + 1 \\right)}\\right] \\times \\frac{1}{\\left(- M^{\\star} + M\\_{j}\\right) \\log{\\left(\\alpha \\right)}} \\\\\n",
      "\\end{array}$\n",
      "</div>"
     ]
    },
    {
     "cell_type": "markdown",
     "metadata": {
      "slideshow": {
       "slide_type": "slide"
      }
     },
     "source": [
      "## Elimination of $N_T$\n",
      "\n",
      "<div style=\"text-align:center;\"><img src=\"figs/nt_closed.svg\" width=\"45%\" /><h3>Figure 2: $N_T(N_P, M^*)$ for a four component uranium re-enrichment cascade with $N_P\\in[1,50]$ and $M^*=236.547$.</h3></div>"
     ]
    },
    {
     "cell_type": "markdown",
     "metadata": {
      "slideshow": {
       "slide_type": "slide"
      }
     },
     "source": [
      "## Elimination of $N_P$\n",
      "\n",
      "Call $f$, \n",
      "\n",
      "<div style=\"text-align:center;\">\n",
      "$f(N_P,M^*) =\n",
      "\\left(\\frac{x_j^F}{\\frac{T}{F}} \\cdot \\frac{1 - \\beta_i^{-N_P}}\n",
      "                                           {\\beta_j^{N_T(N_P,M^*)+1} - \\beta_j^{-N_P}} \\right)\n",
      "- \\left(x_j^T\\cdot\\sum_i^{I} x_i^T\\right) \\equiv 0$\n",
      "</div>"
     ]
    },
    {
     "cell_type": "markdown",
     "metadata": {
      "slideshow": {
       "slide_type": "fragment"
      }
     },
     "source": [
      "Unfortunately, solving for $N_P(M^\\\\star)$ from $f(N_P, M^\\\\star)$ or $\\\\min\\\\left[\\\\frac{L}{F}\\\\right]$ is impossible."
     ]
    },
    {
     "cell_type": "markdown",
     "metadata": {
      "slideshow": {
       "slide_type": "slide"
      }
     },
     "source": [
      "## Elimination of $N_P$\n",
      "\n",
      "<div style=\"text-align:center;\"><img src=\"figs/np_constraint.svg\" width=\"45%\" /><h3>Figure 3: $f(N_P, M^\\star)$ over the range of possible $N_P$ and $M^\\star$ values. The black dashed contour line represents $f(N_P, M^*)=0$</h3></div>"
     ]
    },
    {
     "cell_type": "markdown",
     "metadata": {
      "slideshow": {
       "slide_type": "slide"
      }
     },
     "source": [
      "## Approximation Strategy\n",
      "\n",
      "* Approximate $f$ with a Taylor series,\n",
      "* And use this approximation to compute an analytic solution for $N_P(M^*)$."
     ]
    },
    {
     "cell_type": "markdown",
     "metadata": {
      "slideshow": {
       "slide_type": "slide"
      }
     },
     "source": [
      "## First Order Approximation\n",
      "\n",
      "<div style=\"text-align:center;\">\n",
      "$f^{(1)}(N_P,M^*) \\approx f(N_P^0,M^*) + \\left(N_P -N_P^0\\right)\\left.\\frac{df}{dN_P}\\right|_{N_P=N_P^0}$\n",
      "</div>\n",
      "\n",
      "yields\n",
      "\n",
      "<div style=\"text-align:center;\">\n",
      "$N_P^{(1)}(M^*) = N_P^0 - \\frac{\\left.\\frac{df}{dN_P}\\right|_{N_P=N_P^0}}{f(N_P^0,M^*)}$\n",
      "</div>"
     ]
    },
    {
     "cell_type": "markdown",
     "metadata": {
      "slideshow": {
       "slide_type": "slide"
      }
     },
     "source": [
      "## Second Order Approximation\n",
      "\n",
      "<div style=\"text-align:center;\">\n",
      "$\\begin{array}{rcl}\n",
      "f^{(2)}(N_P,M^*) & \\approx &f(N_P^0,M^*) \\\\\n",
      "& & + \\left(N_P -N_P^0\\right)\\left.\\frac{df}{dN_P}\\right|_{N_P=N_P^0} \\\\\n",
      "& & + \\frac{\\left(N_P -N_P^0\\right)^2}{2}\\cdot\\left.\\frac{d^2f}{(dN_P)^2}\\right|_{N_P=N_P^0}\\\\\n",
      "\\end{array}$\n",
      "</div>\n",
      "\n",
      "yields\n",
      "\n",
      "<div style=\"text-align:center;\">\n",
      "$\\begin{array}{rcl}\n",
      "f^{(2)}(N_P,M^*) & = & a(N_P)^2 + bN_P + c\\\\\n",
      "a & = & \\frac{1}{2}\\cdot\\frac{d^2f}{(dN_P)^2}\\\\\n",
      "b & = & \\left.\\frac{df}{dN_P}\\right|_{N_P=N_P^0} - N_P^0\\frac{d^2f}{(dN_P)^2} \\\\\n",
      "c & = & f(N_P^0,M^*) - N_P^0\\cdot\\frac{df}{dN_P} + \\frac{(N_P^0)^2}{2}\\frac{d^2f}{(dN_P)^2} \\\\\n",
      "N_P^{(2)}(M^*) & = & \\frac{-b - \\sqrt{b^2 - 4ac}}{2a} \\\\\n",
      "\\end{array}$\n",
      "</div>"
     ]
    },
    {
     "cell_type": "code",
     "collapsed": false,
     "input": [
      "table = [\n",
      "    ('<img src=\"figs/np_closed.svg\" />', '<img src=\"figs/np_closed_overlay.svg\" />'),\n",
      "    (\"(a)\", \"(b)\"),\n",
      "    ]\n",
      "style = {\"style\": {\"border-style\": \"none\", \"width\": \"60%\"}, \"th\": {\"border-style\": \"none\"}, \"td\": {\"border-style\": \"none\"}, \n",
      "         \"tr\": {\"border-style\": \"none\"}}\n",
      "meta, tab = htmltable(table, 'approxresfigs', headers=(), style=style)\n",
      "print meta, tab       "
     ],
     "language": "python",
     "metadata": {
      "slideshow": {
       "slide_type": "skip"
      }
     },
     "outputs": [
      {
       "output_type": "stream",
       "stream": "stdout",
       "text": [
        "<script type=\"text/javascript\">\n",
        "window.onload=function(){\n",
        "    var tfrow = document.getElementById('approxresfigsid').rows.length;\n",
        "    var tbRow=[];\n",
        "    for (var i=1;i<tfrow;i++) {\n",
        "        tbRow[i]=document.getElementById('approxresfigsid').rows[i];\n",
        "        tbRow[i].onmouseover = function(){this.style.backgroundColor = '#f3f8aa';};\n",
        "        tbRow[i].onmouseout = function() {this.style.backgroundColor = '#ffffff';};\n",
        "    }\n",
        "};\n",
        "</script>\n",
        "<style type=\"text/css\">\n",
        "table.approxresfigsclass {width:60%;border-color:#a9a9a9;border-style:none;color:#333333;border-collapse:collapse;margin:auto;border-width:1px;text-align:center;}\n",
        "table.approxresfigsclass th {padding:4px;border-style:none;border-color:#a9a9a9;border-width:1px;background-color:#b8b8b8;text-align:left;}\n",
        "table.approxresfigsclass tr {border-style:none;background-color:#ffffff;text-align:center;}\n",
        "table.approxresfigsclass td {padding:4px;border-style:none;border-color:#a9a9a9;border-width:1px;text-align:center;}\n",
        "</style>\n",
        "<table id=\"approxresfigsid\" class=\"approxresfigsclass\" border=\"1\">\n",
        "<tr><td><img src=\"figs/np_closed.svg\" /></td><td><img src=\"figs/np_closed_overlay.svg\" /></td></tr>\n",
        "<tr><td>(a)</td><td>(b)</td></tr>\n",
        "</table>\n"
       ]
      }
     ],
     "prompt_number": 19
    },
    {
     "cell_type": "markdown",
     "metadata": {
      "slideshow": {
       "slide_type": "slide"
      }
     },
     "source": [
      "## Approximation Results\n",
      "\n",
      "<script type=\"text/javascript\">\n",
      "window.onload=function(){\n",
      "    var tfrow = document.getElementById('approxresfigsid').rows.length;\n",
      "    var tbRow=[];\n",
      "    for (var i=1;i<tfrow;i++) {\n",
      "        tbRow[i]=document.getElementById('approxresfigsid').rows[i];\n",
      "        tbRow[i].onmouseover = function(){this.style.backgroundColor = '#f3f8aa';};\n",
      "        tbRow[i].onmouseout = function() {this.style.backgroundColor = '#ffffff';};\n",
      "    }\n",
      "};\n",
      "</script>\n",
      "<style type=\"text/css\">\n",
      "table.approxresfigsclass {width:60%;border-color:#a9a9a9;border-style:none;color:#333333;border-collapse:collapse;margin:auto;border-width:1px;text-align:center;}\n",
      "table.approxresfigsclass th {padding:4px;border-style:none;border-color:#a9a9a9;border-width:1px;background-color:#b8b8b8;text-align:left;}\n",
      "table.approxresfigsclass tr {border-style:none;background-color:#ffffff;text-align:center;}\n",
      "table.approxresfigsclass td {padding:4px;border-style:none;border-color:#a9a9a9;border-width:1px;text-align:center;}\n",
      "</style>\n",
      "<table id=\"approxresfigsid\" class=\"approxresfigsclass\" border=\"1\">\n",
      "<tr><td><img src=\"figs/np_closed.svg\" /></td><td><img src=\"figs/np_closed_overlay.svg\" /></td></tr>\n",
      "<tr><td>(a)</td><td>(b)</td></tr>\n",
      "</table>\n",
      "\n",
      "<div style=\"text-align:center;\"><h3>Figure 4: Approximations to $f(N_P, M^\\star)$ over the range of possible $N_P$ and $M^\\star$ values. </h3></div>"
     ]
    },
    {
     "cell_type": "markdown",
     "metadata": {
      "slideshow": {
       "slide_type": "slide"
      }
     },
     "source": [
      "## $L/F$ Results\n",
      "\n",
      "Having expressions for $N_T(N_P, M^\\\\star)$ and $N_P(M^\\\\star)$, we can substitute these to create an $\\\\frac{L}{F}(M^\\\\star)$."
     ]
    },
    {
     "cell_type": "markdown",
     "metadata": {
      "slideshow": {
       "slide_type": "fragment"
      }
     },
     "source": [
      "<div style=\"text-align:center;\"><img src=\"figs/loverf.svg\" width=\"40%\" /><h3>Figure 5: $L/F(M^*)$ over the range of valid $M^*$ values.</h3></div>"
     ]
    },
    {
     "cell_type": "code",
     "collapsed": false,
     "input": [
      "table = [\n",
      "    (\"\", \"1st order\", \"2nd order\"),\n",
      "    ({\"style\": {\"text-align\": \"left\"}, \"value\": \"Number of $M^\\\\star$\"}, \"6,852\", \"111,012\"), \n",
      "    ({\"style\": {\"text-align\": \"left\"}, \"value\": \"Number of Operations\"}, \"57,383\", \"945,575\"),\n",
      "    ]\n",
      "meta, tab = htmltable(table, 'loverscaling', title=(\"Table II: Number of instances of $M^\\\\star$ and the number of binary operations \"\n",
      "                                                  \"in $L/F(M^\\\\star)$ for first and second order Taylor series approximations for a \"\n",
      "                                                  \"four component mixture.\"), )\n",
      "print meta, tab"
     ],
     "language": "python",
     "metadata": {
      "slideshow": {
       "slide_type": "skip"
      }
     },
     "outputs": [
      {
       "output_type": "stream",
       "stream": "stdout",
       "text": [
        "<script type=\"text/javascript\">\n",
        "window.onload=function(){\n",
        "    var tfrow = document.getElementById('loverscalingid').rows.length;\n",
        "    var tbRow=[];\n",
        "    for (var i=1;i<tfrow;i++) {\n",
        "        tbRow[i]=document.getElementById('loverscalingid').rows[i];\n",
        "        tbRow[i].onmouseover = function(){this.style.backgroundColor = '#f3f8aa';};\n",
        "        tbRow[i].onmouseout = function() {this.style.backgroundColor = '#ffffff';};\n",
        "    }\n",
        "};\n",
        "</script>\n",
        "<style type=\"text/css\">\n",
        "table.loverscalingclass {width:80%;border-color:#a9a9a9;color:#333333;border-collapse:collapse;margin:auto;border-width:1px;text-align:center;}\n",
        "table.loverscalingclass th {padding:4px;border-style:solid;border-color:#a9a9a9;border-width:1px;background-color:#b8b8b8;text-align:left;}\n",
        "table.loverscalingclass tr {background-color:#ffffff;text-align:center;}\n",
        "table.loverscalingclass td {padding:4px;border-color:#a9a9a9;border-style:solid;border-width:1px;text-align:center;}\n",
        "</style>\n",
        "<div style=\"text-align:center;\"><b>Table II: Number of instances of $M^\\star$ and the number of binary operations in $L/F(M^\\star)$ for first and second order Taylor series approximations for a four component mixture.</b></div>\n",
        "<table id=\"loverscalingid\" class=\"loverscalingclass\" border=\"1\">\n",
        "<tr><th></th><th>1st order</th><th>2nd order</th></tr>\n",
        "<tr><td style=\"text-align:left;\">Number of $M^\\star$</td><td>6,852</td><td>111,012</td></tr>\n",
        "<tr><td style=\"text-align:left;\">Number of Operations</td><td>57,383</td><td>945,575</td></tr>\n",
        "</table>\n"
       ]
      }
     ],
     "prompt_number": 14
    },
    {
     "cell_type": "markdown",
     "metadata": {
      "slideshow": {
       "slide_type": "slide"
      }
     },
     "source": [
      "## $L/F$ Scaling\n",
      "\n",
      "<script type=\"text/javascript\">\n",
      "window.onload=function(){\n",
      "    var tfrow = document.getElementById('loverscalingid').rows.length;\n",
      "    var tbRow=[];\n",
      "    for (var i=1;i<tfrow;i++) {\n",
      "        tbRow[i]=document.getElementById('loverscalingid').rows[i];\n",
      "        tbRow[i].onmouseover = function(){this.style.backgroundColor = '#f3f8aa';};\n",
      "        tbRow[i].onmouseout = function() {this.style.backgroundColor = '#ffffff';};\n",
      "    }\n",
      "};\n",
      "</script>\n",
      "<style type=\"text/css\">\n",
      "table.loverscalingclass {width:80%;border-color:#a9a9a9;color:#333333;border-collapse:collapse;margin:auto;border-width:1px;text-align:center;}\n",
      "table.loverscalingclass th {padding:4px;border-style:solid;border-color:#a9a9a9;border-width:1px;background-color:#b8b8b8;text-align:left;}\n",
      "table.loverscalingclass tr {background-color:#ffffff;text-align:center;}\n",
      "table.loverscalingclass td {padding:4px;border-color:#a9a9a9;border-style:solid;border-width:1px;text-align:center;}\n",
      "</style>\n",
      "<div style=\"text-align:center;\"><b>Table II: Number of instances of $M^\\star$ and the number of binary operations in $L/F(M^\\star)$ for first and second order Taylor series approximations for a four component mixture.</b></div>\n",
      "<table id=\"loverscalingid\" class=\"loverscalingclass\" border=\"1\">\n",
      "<tr><th></th><th>1st order</th><th>2nd order</th></tr>\n",
      "<tr><td style=\"text-align:left;\">Number of $M^\\star$</td><td>6,852</td><td>111,012</td></tr>\n",
      "<tr><td style=\"text-align:left;\">Number of Operations</td><td>57,383</td><td>945,575</td></tr>\n",
      "</table>\n",
      "\n",
      "<br />\n",
      "\n",
      "* Note: these numbers are prior to CSE."
     ]
    },
    {
     "cell_type": "code",
     "collapsed": false,
     "input": [
      "table = [\n",
      "    (\"Parameter\", \"Approximation\", \"Exact\", \"Difference\"),\n",
      "    ({\"style\": {\"text-align\": \"left\"}, \"value\": \"$L/F$\"}, \"326.89566\", \"326.89609\", \"-4.3245e-04\"),\n",
      "    ({\"style\": {\"text-align\": \"left\"}, \"value\": \"$M^*$\"}, \"236.58177\", \"236.57897\", \"+2.8000e-03\"),\n",
      "    ({\"style\": {\"text-align\": \"left\"}, \"value\": \"$N_P$\"}, \"27.36549\", \"27.33457\", \"+3.0923e-02\"),\n",
      "    ({\"style\": {\"text-align\": \"left\"}, \"value\": \"$N_T$\"}, \"15.02947\", \"15.05036\", \"-2.0889e-02\"),\n",
      "    ({\"style\": {\"text-align\": \"left\"}, \"value\": \"$x^P$ U-234\"}, \"0.00147\", \"0.00147\", \"-2.2165e-07\"),\n",
      "    ({\"style\": {\"text-align\": \"left\"}, \"value\": \"$x^P$ U-235\"}, \"0.05500\", \"0.05500\", \"-2.9836e-06\"),\n",
      "    ({\"style\": {\"text-align\": \"left\"}, \"value\": \"$x^P$ U-236\"}, \"0.02846\", \"0.02845\", \"+4.8174e-06\"),\n",
      "    ({\"style\": {\"text-align\": \"left\"}, \"value\": \"$x^P$ U-238\"}, \"0.91507\", \"0.91507\", \"-1.6122e-06\"),\n",
      "    ({\"style\": {\"text-align\": \"left\"}, \"value\": \"$x^T$ U-234\"}, \"0.00003\", \"0.00003\", \"+1.7416e-08\"),\n",
      "    ({\"style\": {\"text-align\": \"left\"}, \"value\": \"$x^T$ U-235\"}, \"0.00250\", \"0.00250\", \"+1.7114e-08\"),\n",
      "    ({\"style\": {\"text-align\": \"left\"}, \"value\": \"$x^T$ U-236\"}, \"0.00339\", \"0.00339\", \"-7.4989e-07\"),\n",
      "    ({\"style\": {\"text-align\": \"left\"}, \"value\": \"$x^T$ U-238\"}, \"0.99408\", \"0.99408\", \"+7.1536e-07\"),\n",
      "    ]\n",
      "meta, tab = htmltable(table, 'benchmark', title=\"Table III: Table 6: Cascade parameter comparison after $L/F$ minimization\", )\n",
      "print meta, tab"
     ],
     "language": "python",
     "metadata": {
      "slideshow": {
       "slide_type": "skip"
      }
     },
     "outputs": [
      {
       "output_type": "stream",
       "stream": "stdout",
       "text": [
        "<script type=\"text/javascript\">\n",
        "window.onload=function(){\n",
        "    var tfrow = document.getElementById('benchmarkid').rows.length;\n",
        "    var tbRow=[];\n",
        "    for (var i=1;i<tfrow;i++) {\n",
        "        tbRow[i]=document.getElementById('benchmarkid').rows[i];\n",
        "        tbRow[i].onmouseover = function(){this.style.backgroundColor = '#f3f8aa';};\n",
        "        tbRow[i].onmouseout = function() {this.style.backgroundColor = '#ffffff';};\n",
        "    }\n",
        "};\n",
        "</script>\n",
        "<style type=\"text/css\">\n",
        "table.benchmarkclass {width:80%;border-color:#a9a9a9;color:#333333;border-collapse:collapse;margin:auto;border-width:1px;text-align:center;}\n",
        "table.benchmarkclass th {padding:4px;border-style:solid;border-color:#a9a9a9;border-width:1px;background-color:#b8b8b8;text-align:left;}\n",
        "table.benchmarkclass tr {background-color:#ffffff;text-align:center;}\n",
        "table.benchmarkclass td {padding:4px;border-color:#a9a9a9;border-style:solid;border-width:1px;text-align:center;}\n",
        "</style>\n"
       ]
      },
      {
       "output_type": "stream",
       "stream": "stdout",
       "text": [
        "<div style=\"text-align:center;\"><b>Table III: Table 6: Cascade parameter comparison after $L/F$ minimization</b></div>\n",
        "<table id=\"benchmarkid\" class=\"benchmarkclass\" border=\"1\">\n",
        "<tr><th>Parameter</th><th>Approximation</th><th>Exact</th><th>Difference</th></tr>\n",
        "<tr><td style=\"text-align:left;\">$L/F$</td><td>326.89566</td><td>326.89609</td><td>-4.3245e-04</td></tr>\n",
        "<tr><td style=\"text-align:left;\">$M^*$</td><td>236.58177</td><td>236.57897</td><td>+2.8000e-03</td></tr>\n",
        "<tr><td style=\"text-align:left;\">$N_P$</td><td>27.36549</td><td>27.33457</td><td>+3.0923e-02</td></tr>\n",
        "<tr><td style=\"text-align:left;\">$N_T$</td><td>15.02947</td><td>15.05036</td><td>-2.0889e-02</td></tr>\n",
        "<tr><td style=\"text-align:left;\">$x^P$ U-234</td><td>0.00147</td><td>0.00147</td><td>-2.2165e-07</td></tr>\n",
        "<tr><td style=\"text-align:left;\">$x^P$ U-235</td><td>0.05500</td><td>0.05500</td><td>-2.9836e-06</td></tr>\n",
        "<tr><td style=\"text-align:left;\">$x^P$ U-236</td><td>0.02846</td><td>0.02845</td><td>+4.8174e-06</td></tr>\n",
        "<tr><td style=\"text-align:left;\">$x^P$ U-238</td><td>0.91507</td><td>0.91507</td><td>-1.6122e-06</td></tr>\n",
        "<tr><td style=\"text-align:left;\">$x^T$ U-234</td><td>0.00003</td><td>0.00003</td><td>+1.7416e-08</td></tr>\n",
        "<tr><td style=\"text-align:left;\">$x^T$ U-235</td><td>0.00250</td><td>0.00250</td><td>+1.7114e-08</td></tr>\n",
        "<tr><td style=\"text-align:left;\">$x^T$ U-236</td><td>0.00339</td><td>0.00339</td><td>-7.4989e-07</td></tr>\n",
        "<tr><td style=\"text-align:left;\">$x^T$ U-238</td><td>0.99408</td><td>0.99408</td><td>+7.1536e-07</td></tr>\n",
        "</table>\n"
       ]
      }
     ],
     "prompt_number": 16
    },
    {
     "cell_type": "markdown",
     "metadata": {
      "slideshow": {
       "slide_type": "slide"
      }
     },
     "source": [
      "## Benchmark\n",
      "\n",
      "<script type=\"text/javascript\">\n",
      "window.onload=function(){\n",
      "    var tfrow = document.getElementById('benchmarkid').rows.length;\n",
      "    var tbRow=[];\n",
      "    for (var i=1;i<tfrow;i++) {\n",
      "        tbRow[i]=document.getElementById('benchmarkid').rows[i];\n",
      "        tbRow[i].onmouseover = function(){this.style.backgroundColor = '#f3f8aa';};\n",
      "        tbRow[i].onmouseout = function() {this.style.backgroundColor = '#ffffff';};\n",
      "    }\n",
      "};\n",
      "</script>\n",
      "<style type=\"text/css\">\n",
      "table.benchmarkclass {width:80%;border-color:#a9a9a9;color:#333333;border-collapse:collapse;margin:auto;border-width:1px;text-align:center;}\n",
      "table.benchmarkclass th {padding:4px;border-style:solid;border-color:#a9a9a9;border-width:1px;background-color:#b8b8b8;text-align:left;}\n",
      "table.benchmarkclass tr {background-color:#ffffff;text-align:center;}\n",
      "table.benchmarkclass td {padding:4px;border-color:#a9a9a9;border-style:solid;border-width:1px;text-align:center;}\n",
      "</style>\n",
      "<div style=\"text-align:center;\"><b>Table III: Table 6: Cascade parameter comparison after $L/F$ minimization</b></div>\n",
      "<table id=\"benchmarkid\" class=\"benchmarkclass\" border=\"1\">\n",
      "<tr><th>Parameter</th><th>Approximation</th><th>Exact</th><th>Difference</th></tr>\n",
      "<tr><td style=\"text-align:left;\">$L/F$</td><td>326.89566</td><td>326.89609</td><td>-4.3245e-04</td></tr>\n",
      "<tr><td style=\"text-align:left;\">$M^*$</td><td>236.58177</td><td>236.57897</td><td>+2.8000e-03</td></tr>\n",
      "<tr><td style=\"text-align:left;\">$N_P$</td><td>27.36549</td><td>27.33457</td><td>+3.0923e-02</td></tr>\n",
      "<tr><td style=\"text-align:left;\">$N_T$</td><td>15.02947</td><td>15.05036</td><td>-2.0889e-02</td></tr>\n",
      "<tr><td style=\"text-align:left;\">$x^P$ U-234</td><td>0.00147</td><td>0.00147</td><td>-2.2165e-07</td></tr>\n",
      "<tr><td style=\"text-align:left;\">$x^P$ U-235</td><td>0.05500</td><td>0.05500</td><td>-2.9836e-06</td></tr>\n",
      "<tr><td style=\"text-align:left;\">$x^P$ U-236</td><td>0.02846</td><td>0.02845</td><td>+4.8174e-06</td></tr>\n",
      "<tr><td style=\"text-align:left;\">$x^P$ U-238</td><td>0.91507</td><td>0.91507</td><td>-1.6122e-06</td></tr>\n",
      "<tr><td style=\"text-align:left;\">$x^T$ U-234</td><td>0.00003</td><td>0.00003</td><td>+1.7416e-08</td></tr>\n",
      "<tr><td style=\"text-align:left;\">$x^T$ U-235</td><td>0.00250</td><td>0.00250</td><td>+1.7114e-08</td></tr>\n",
      "<tr><td style=\"text-align:left;\">$x^T$ U-236</td><td>0.00339</td><td>0.00339</td><td>-7.4989e-07</td></tr>\n",
      "<tr><td style=\"text-align:left;\">$x^T$ U-238</td><td>0.99408</td><td>0.99408</td><td>+7.1536e-07</td></tr>\n",
      "</table>"
     ]
    },
    {
     "cell_type": "markdown",
     "metadata": {
      "slideshow": {
       "slide_type": "slide"
      }
     },
     "source": [
      "## $L/F$ Execution Time\n",
      "\n",
      "<div style=\"text-align:center;\"><img src=\"figs/solver_exec_times.png\" width=\"45%\" /><h3>Figure 6: Execution time for $L/F(M^\u2217)$ calculation.</h3></div>"
     ]
    },
    {
     "cell_type": "markdown",
     "metadata": {
      "slideshow": {
       "slide_type": "slide"
      }
     },
     "source": [
      "## Questions\n",
      "\n",
      "<div style=\"text-align:center;\"><img src=\"http://24.media.tumblr.com/tumblr_m1rk6gkLao1r38bjro10_500.jpg\" width=\"80%\" /></div>"
     ]
    },
    {
     "cell_type": "markdown",
     "metadata": {
      "slideshow": {
       "slide_type": "slide"
      }
     },
     "source": [
      "## References\n",
      "\n",
      "1. Anthony Scopatz, \"Erichment: M* vs Flowrate\", URL: http://pynesim.org/gallery/enrichment_mstar_vs_flowrate.html\n",
      "2. J. J. JACOBSON, G. E. MATTHERN, S. J. PIET, and D. E. SHROPSHIRE, \u201cVISION : Verifiable Fuel Cycle Simulation Model Advances in Nuclear Fuel Management,\u201d , Idaho National Laboratory (2009)."
     ]
    },
    {
     "cell_type": "code",
     "collapsed": false,
     "input": [
      "!make"
     ],
     "language": "python",
     "metadata": {
      "slideshow": {
       "slide_type": "skip"
      }
     },
     "outputs": [
      {
       "output_type": "stream",
       "stream": "stdout",
       "text": [
        "cp -r ~/nbconvert/reveal . \r\n"
       ]
      },
      {
       "output_type": "stream",
       "stream": "stdout",
       "text": [
        "rm -rf reveal/.git* \r\n",
        "mkdir -p js \r\n",
        "cp ~/nbconvert/js/mathjax-onload.js js\r\n",
        "cp classy.css reveal/css/theme/ \r\n",
        "python ~/nbconvert/nbconvert.py -f reveal scopatz_mc13.ipynb \r\n"
       ]
      },
      {
       "output_type": "stream",
       "stream": "stdout",
       "text": [
        "sed -i 's:reveal/css/theme/simple.css:reveal/css/theme/classy.css:' scopatz_mc13_slides.html \r\n",
        "sed -i 's:class=\"fragment\" class=\"text_cell_render:class=\"fragment text_cell_render:' scopatz_mc13_slides.html \r\n",
        "sed -i 's/.rendered_html ul{list-style:disc;margin:1em 2em;}/.rendered_html ul{list-style:disc;margin:0em 2em;}/' scopatz_mc13_slides.html \r\n"
       ]
      },
      {
       "output_type": "stream",
       "stream": "stdout",
       "text": [
        "sed -i '/<\\!-- Social buttons -->/,/<\\!-- End of social buttons -->/d' scopatz_mc13_slides.html \r\n"
       ]
      }
     ],
     "prompt_number": 18
    },
    {
     "cell_type": "code",
     "collapsed": false,
     "input": [],
     "language": "python",
     "metadata": {},
     "outputs": [],
     "prompt_number": 5
    }
   ],
   "metadata": {}
  }
 ]
}