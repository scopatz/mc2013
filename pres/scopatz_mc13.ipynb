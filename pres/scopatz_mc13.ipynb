{
 "metadata": {
  "name": "scopatz_mc13"
 },
 "nbformat": 3,
 "nbformat_minor": 0,
 "worksheets": [
  {
   "cells": [
    {
     "cell_type": "markdown",
     "metadata": {
      "slideshow": {
       "slide_type": "slide"
      }
     },
     "source": [
      "<div style=\"text-align:center\">\n",
      "<h1>First & Second Order Approximations to Stage Numbers in Multi-component Enrichment Cascades</h1>\n",
      "<h2>M&C 2013</h2>\n",
      "</div>\n",
      "<div style=\"text-align:center\">Dr. Anthony Michael Scopatz</div>\n",
      "<div style=\"text-align:center\">The University of Chicago, The Flash Center for Computational Science</div>\n",
      "<div style=\"text-align:center\">Sun Valley, ID, May 6th, 2013</div>"
     ]
    },
    {
     "cell_type": "code",
     "collapsed": false,
     "input": [
      "import os\n",
      "import numpy as np\n",
      "import matplotlib\n",
      "matplotlib.rc('font', family='serif', size=16)\n",
      "import matplotlib.pyplot as plt\n",
      "from IPython.display import *\n",
      "from utils import htmltable"
     ],
     "language": "python",
     "metadata": {
      "slideshow": {
       "slide_type": "skip"
      }
     },
     "outputs": [],
     "prompt_number": 1
    },
    {
     "cell_type": "markdown",
     "metadata": {
      "slideshow": {
       "slide_type": "slide"
      }
     },
     "source": [
      "## Enrichment\n",
      "\n",
      "This talk describes a novel and fast method for computing the Matched Abunance Ratio Cascade (MARC) equations.  \n",
      "\n",
      "It is also about the tradeoffs needed to make this method fast.\n",
      "\n",
      "<div style=\"text-align:center;\"><img src=\"http://upload.wikimedia.org/wikipedia/commons/thumb/6/69/Gas_centrifuge_cascade.jpg/300px-Gas_centrifuge_cascade.jpg\" /></div>"
     ]
    },
    {
     "cell_type": "markdown",
     "metadata": {
      "slideshow": {
       "slide_type": "slide"
      }
     },
     "source": [
      "## Problem Description\n",
      "\n",
      "<div style=\"text-align:center;\"><img src=\"figs/enrichment_mstar_vs_flowrate.svg\" width=\"80%\" /><h3>Figure 1: Enrichment Optimization [1]</h3></div>"
     ]
    },
    {
     "cell_type": "code",
     "collapsed": false,
     "input": [
      "meta, tab = htmltable([('a', 'b'), ['0', '1']], 'simple')\n",
      "print meta\n",
      "print tab"
     ],
     "language": "python",
     "metadata": {
      "slideshow": {
       "slide_type": "skip"
      }
     },
     "outputs": [
      {
       "output_type": "stream",
       "stream": "stdout",
       "text": [
        "<script type=\"text/javascript\">\n",
        "    window.onload=function(){\n",
        "    var tfrow = document.getElementById('simpleid').rows.length;\n",
        "    var tbRow=[];\n",
        "    for (var i=1;i<tfrow;i++) {\n",
        "        tbRow[i]=document.getElementById('simpleid').rows[i];\n",
        "        tbRow[i].onmouseover = function(){this.style.backgroundColor = '#f3f8aa';};\n",
        "        tbRow[i].onmouseout = function() {this.style.backgroundColor = '#ffffff';};\n",
        "    }\n",
        "};\n",
        "</script>\n",
        "<style type=\"text/css\">\n",
        "table.simpleclass {width:80%;border-color:#a9a9a9;color:#333333;border-collapse:collapse;margin:auto;border-width:1px;text-align:center;}\n",
        "table.simpleclass th {padding:4px;border-color:#a9a9a9;order-style:solid;border-width:1px;background-color:#b8b8b8;text-align:left;}\n",
        "table.simpleclass tr {background-color:#ffffff;text-align:center;}\n",
        "table.simpleclass td {padding:4px;border-color:#a9a9a9;border-style:solid;border-width:1px;text-align:center;}\n",
        "</style>\n"
       ]
      },
      {
       "output_type": "stream",
       "stream": "stdout",
       "text": [
        "\n",
        "<table id=\"simpleid\" class=\"simpleclass\" border=\"1\">\n",
        "<tr><th>a</th><th>b</th></tr>\n",
        "<tr><td>0</td><td>1</td></tr>\n",
        "</table>\n"
       ]
      }
     ],
     "prompt_number": 4
    },
    {
     "cell_type": "markdown",
     "metadata": {
      "slideshow": {
       "slide_type": "slide"
      }
     },
     "source": [
      "\n",
      "## Terminology\n",
      "<script type=\"text/javascript\">\n",
      "    window.onload=function(){\n",
      "    var tfrow = document.getElementById('simpleid').rows.length;\n",
      "    var tbRow=[];\n",
      "    for (var i=1;i<tfrow;i++) {\n",
      "        tbRow[i]=document.getElementById('simpleid').rows[i];\n",
      "        tbRow[i].onmouseover = function(){this.style.backgroundColor = '#f3f8aa';};\n",
      "        tbRow[i].onmouseout = function() {this.style.backgroundColor = '#ffffff';};\n",
      "    }\n",
      "};\n",
      "</script>\n",
      "<style type=\"text/css\">\n",
      "table.simpleclass {width:80%;border-color:#a9a9a9;color:#333333;border-collapse:collapse;margin:auto;border-width:1px;text-align:center;}\n",
      "table.simpleclass th {padding:4px;border-color:#a9a9a9;order-style:solid;border-width:1px;background-color:#b8b8b8;text-align:left;}\n",
      "table.simpleclass tr {background-color:#ffffff;text-align:center;}\n",
      "table.simpleclass td {padding:4px;border-color:#a9a9a9;border-style:solid;border-width:1px;text-align:center;}\n",
      "</style>\n",
      "\n",
      "<table id=\"simpleid\" class=\"simpleclass\" border=\"1\">\n",
      "<tr><th>a</th><th>b</th></tr>\n",
      "<tr><td>0</td><td>1</td></tr>\n",
      "</table>"
     ]
    },
    {
     "cell_type": "markdown",
     "metadata": {
      "slideshow": {
       "slide_type": "slide"
      }
     },
     "source": [
      "## MARC Equations"
     ]
    },
    {
     "cell_type": "markdown",
     "metadata": {
      "slideshow": {
       "slide_type": "slide"
      }
     },
     "source": [
      "## Questions\n",
      "\n",
      "<div style=\"text-align:center;\"><img src=\"http://24.media.tumblr.com/tumblr_m1rk6gkLao1r38bjro10_500.jpg\" width=\"80%\" /></div>"
     ]
    },
    {
     "cell_type": "markdown",
     "metadata": {
      "slideshow": {
       "slide_type": "slide"
      }
     },
     "source": [
      "## References\n",
      "\n",
      "1. Anthony Scopatz, \"Erichment: M* vs Flowrate\", URL: http://pynesim.org/gallery/enrichment_mstar_vs_flowrate.html\n",
      "2. Nuclear Energy Data Files. Los Alamos National Laboratory - Theoretical Nuclear Physics. 2009. URL: http://t2.lanl.gov/data/data.html"
     ]
    },
    {
     "cell_type": "code",
     "collapsed": false,
     "input": [
      "!make"
     ],
     "language": "python",
     "metadata": {
      "slideshow": {
       "slide_type": "skip"
      }
     },
     "outputs": [
      {
       "output_type": "stream",
       "stream": "stdout",
       "text": [
        "cp -r ~/nbconvert/reveal . \r\n",
        "rm -rf reveal/.git* \r\n",
        "mkdir -p js \r\n",
        "cp ~/nbconvert/js/mathjax-onload.js js\r\n",
        "cp classy.css reveal/css/theme/ \r\n",
        "python ~/nbconvert/nbconvert.py -f reveal scopatz_mc13.ipynb \r\n"
       ]
      },
      {
       "output_type": "stream",
       "stream": "stdout",
       "text": [
        "sed -i 's:reveal/css/theme/simple.css:reveal/css/theme/classy.css:' scopatz_mc13_slides.html \r\n",
        "sed -i 's:class=\"fragment\" class=\"text_cell_render:class=\"fragment text_cell_render:' scopatz_mc13_slides.html \r\n",
        "sed -i 's/.rendered_html ul{list-style:disc;margin:1em 2em;}/.rendered_html ul{list-style:disc;margin:0em 2em;}/' scopatz_mc13_slides.html \r\n",
        "sed -i '/<\\!-- Social buttons -->/,/<\\!-- End of social buttons -->/d' scopatz_mc13_slides.html \r\n"
       ]
      }
     ],
     "prompt_number": 3
    },
    {
     "cell_type": "code",
     "collapsed": false,
     "input": [],
     "language": "python",
     "metadata": {},
     "outputs": [],
     "prompt_number": 3
    }
   ],
   "metadata": {}
  }
 ]
}