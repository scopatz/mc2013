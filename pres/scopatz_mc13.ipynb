{
 "metadata": {
  "name": "scopatz_mc13"
 },
 "nbformat": 3,
 "nbformat_minor": 0,
 "worksheets": [
  {
   "cells": [
    {
     "cell_type": "markdown",
     "metadata": {
      "slideshow": {
       "slide_type": "slide"
      }
     },
     "source": [
      "<div style=\"text-align:center\">\n",
      "<h1>First & Second Order Approximations to Stage Numbers in Multi-component Enrichment Cascades</h1>\n",
      "<h2>M&C 2013</h2>\n",
      "</div>\n",
      "<div style=\"text-align:center\">Dr. Anthony Michael Scopatz</div>\n",
      "<div style=\"text-align:center\">The University of Chicago, The Flash Center for Computational Science</div>\n",
      "<div style=\"text-align:center\">Sun Valley, ID, May 6th, 2013</div>"
     ]
    },
    {
     "cell_type": "code",
     "collapsed": false,
     "input": [
      "import os\n",
      "import numpy as np\n",
      "import matplotlib\n",
      "matplotlib.rc('font', family='serif', size=16)\n",
      "import matplotlib.pyplot as plt\n",
      "from IPython.display import *\n",
      "from utils import htmltable"
     ],
     "language": "python",
     "metadata": {
      "slideshow": {
       "slide_type": "skip"
      }
     },
     "outputs": [],
     "prompt_number": 1
    },
    {
     "cell_type": "markdown",
     "metadata": {
      "slideshow": {
       "slide_type": "slide"
      }
     },
     "source": [
      "## Enrichment\n",
      "\n",
      "This talk describes a novel and fast method for computing the Matched Abunance Ratio Cascade (MARC) equations.  \n",
      "\n",
      "It is also about the tradeoffs needed to make this method fast.\n",
      "\n",
      "<div style=\"text-align:center;\"><img src=\"http://upload.wikimedia.org/wikipedia/commons/thumb/6/69/Gas_centrifuge_cascade.jpg/300px-Gas_centrifuge_cascade.jpg\" /></div>"
     ]
    },
    {
     "cell_type": "markdown",
     "metadata": {
      "slideshow": {
       "slide_type": "slide"
      }
     },
     "source": [
      "## Problem Description\n",
      "\n",
      "<div style=\"text-align:center;\"><img src=\"figs/enrichment_mstar_vs_flowrate.svg\" width=\"80%\" /><h3>Figure 1: Enrichment Optimization [1]</h3></div>"
     ]
    },
    {
     "cell_type": "code",
     "collapsed": false,
     "input": [
      "table = [\n",
      "    (\"Symbol\", \"Description\"),\n",
      "    (\"$F$, $P$, $T$, $L$\", \"Feed, Product, Tails, and Total Flow Rates\"), \n",
      "    (\"$i$, $j$, and $k$ subscripts\", \"$i$-th component nuclide and first and second key components\"),\n",
      "    (\"$0$ subscript\", \"Initial conditions value guess\"),\n",
      "    (\"$x_i$\", \"Mass fraction of $i$-th component\"),\n",
      "    (r\"$\\\\alpha$, $\\\\beta_i$\", \"Overall and nuclide stage separation factors\"),\n",
      "    (\"$N$\", \"Number of Stages\"), \n",
      "    (\"$M$\", \"Molecular Weight [amu]\"),\n",
      "    (\"$M^*$\", \"Optimization parameter\"),\n",
      "    ]\n",
      "meta, tab = htmltable(table, 'terminology', style={\"td\": {'text-align': 'left'}})\n",
      "print meta, tab"
     ],
     "language": "python",
     "metadata": {
      "slideshow": {
       "slide_type": "skip"
      }
     },
     "outputs": [
      {
       "output_type": "stream",
       "stream": "stdout",
       "text": [
        "<script type=\"text/javascript\">\n",
        "window.onload=function(){\n",
        "    var tfrow = document.getElementById('terminologyid').rows.length;\n",
        "    var tbRow=[];\n",
        "    for (var i=1;i<tfrow;i++) {\n",
        "        tbRow[i]=document.getElementById('terminologyid').rows[i];\n",
        "        tbRow[i].onmouseover = function(){this.style.backgroundColor = '#f3f8aa';};\n",
        "        tbRow[i].onmouseout = function() {this.style.backgroundColor = '#ffffff';};\n",
        "    }\n",
        "};\n",
        "</script>\n",
        "<style type=\"text/css\">\n",
        "table.terminologyclass {width:80%;border-color:#a9a9a9;color:#333333;border-collapse:collapse;margin:auto;border-width:1px;text-align:center;}\n",
        "table.terminologyclass th {padding:4px;border-color:#a9a9a9;order-style:solid;border-width:1px;background-color:#b8b8b8;text-align:left;}\n",
        "table.terminologyclass tr {background-color:#ffffff;text-align:center;}\n",
        "table.terminologyclass td {padding:4px;border-style:solid;border-color:#a9a9a9;border-width:1px;text-align:left;}\n",
        "</style>\n",
        "<table id=\"terminologyid\" class=\"terminologyclass\" border=\"1\">\n",
        "<tr><th>Symbol</th><th>Description</th></tr>\n",
        "<tr><td>$F$, $P$, $T$, $L$</td><td>Feed, Product, Tails, and Total Flow Rates</td></tr>\n",
        "<tr><td>$i$, $j$, and $k$ subscripts</td><td>$i$-th component nuclide and first and second key components</td></tr>\n",
        "<tr><td>$0$ subscript</td><td>Initial conditions value guess</td></tr>\n",
        "<tr><td>$x_i$</td><td>Mass fraction of $i$-th component</td></tr>\n",
        "<tr><td>$\\\\alpha$, $\\\\beta_i$</td><td>Overall and nuclide stage separation factors</td></tr>\n",
        "<tr><td>$N$</td><td>Number of Stages</td></tr>\n",
        "<tr><td>$M$</td><td>Molecular Weight [amu]</td></tr>\n",
        "<tr><td>$M^*$</td><td>Optimization parameter</td></tr>\n",
        "</table>\n"
       ]
      }
     ],
     "prompt_number": 2
    },
    {
     "cell_type": "markdown",
     "metadata": {
      "slideshow": {
       "slide_type": "slide"
      }
     },
     "source": [
      "## Terminology\n",
      "<script type=\"text/javascript\">\n",
      "window.onload=function(){\n",
      "    var tfrow = document.getElementById('terminologyid').rows.length;\n",
      "    var tbRow=[];\n",
      "    for (var i=1;i<tfrow;i++) {\n",
      "        tbRow[i]=document.getElementById('terminologyid').rows[i];\n",
      "        tbRow[i].onmouseover = function(){this.style.backgroundColor = '#f3f8aa';};\n",
      "        tbRow[i].onmouseout = function() {this.style.backgroundColor = '#ffffff';};\n",
      "    }\n",
      "};\n",
      "</script>\n",
      "<style type=\"text/css\">\n",
      "table.terminologyclass {width:80%;border-color:#a9a9a9;color:#333333;border-collapse:collapse;margin:auto;border-width:1px;text-align:center;}\n",
      "table.terminologyclass th {padding:4px;border-color:#a9a9a9;order-style:solid;border-width:1px;background-color:#b8b8b8;text-align:left;}\n",
      "table.terminologyclass tr {background-color:#ffffff;text-align:center;}\n",
      "table.terminologyclass td {padding:4px;border-style:solid;border-color:#a9a9a9;border-width:1px;text-align:left;}\n",
      "</style>\n",
      "<table id=\"terminologyid\" class=\"terminologyclass\" border=\"1\">\n",
      "<tr><th>Symbol</th><th>Description</th></tr>\n",
      "<tr><td>$F$, $P$, $T$, $L$</td><td>Feed, Product, Tails, and Total Flow Rates</td></tr>\n",
      "<tr><td>$i$, $j$, and $k$ subscripts</td><td>$i$-th component nuclide and first and second key components</td></tr>\n",
      "<tr><td>$0$ subscript</td><td>Initial conditions value guess</td></tr>\n",
      "<tr><td>$x_i$</td><td>Mass fraction of $i$-th component</td></tr>\n",
      "<tr><td>$\\\\alpha$, $\\\\beta_i$</td><td>Overall and nuclide stage separation factors</td></tr>\n",
      "<tr><td>$N$</td><td>Number of Stages</td></tr>\n",
      "<tr><td>$M$</td><td>Molecular Weight [amu]</td></tr>\n",
      "<tr><td>$M^*$</td><td>Optimization parameter</td></tr>\n",
      "</table>"
     ]
    },
    {
     "cell_type": "markdown",
     "metadata": {
      "slideshow": {
       "slide_type": "slide"
      }
     },
     "source": [
      "## MARC Equations\n",
      "\n",
      "The total flow rate normaizled by the feed flow rate may be computed from,\n",
      "\n",
      "<div style=\"text-align:center;\">\n",
      "\n",
      "$\\\\frac{L}{F} = \\\\sum_i^I \\\\frac{\\\\frac{P}{F}x_i^P\\\\ln\\\\left(\\\\frac{x_j^P}{x_k^P}\\\\right) + \\\\frac{T}{F}x_i^T\\\\ln\\\\left(\\\\frac{x_j^T}{x_k^T}\\\\right)\n",
      "                                 - x_i^F\\\\ln\\\\left(\\\\frac{x_j^F}{x_k^F}\\\\right)}\n",
      "                                {\\\\ln(\\\\beta_j)\\\\frac{\\\\beta_i - 1.0}{\\\\beta_i + 1.0}}$\n",
      "\n",
      "</div>"
     ]
    },
    {
     "cell_type": "markdown",
     "metadata": {
      "slideshow": {
       "slide_type": "slide"
      }
     },
     "source": [
      "## MARC Equations\n",
      "\n",
      "The following MARC constraints equations must then be solved for $N_P$, $N_T$, and $M^*$.\n",
      "\n",
      "<div style=\"text-align:center;\">\n",
      "\n",
      "$\\\\frac{x_j^P}{x_j^F}\\\\cdot\\\\frac{P}{F} - \\\\frac{\\\\beta_j^{N_T+1} - 1}{\\\\beta_j^{N_T+1} - \\\\beta_j^{-N_P}} = 0$\n",
      "\n",
      "$\\\\left(\\\\frac{x_j^F}{\\\\frac{T}{F}} \\\\cdot \\\\frac{1 - \\\\beta_i^{-N_P}}{\\\\beta_j^{N_T+1} - \\\\beta_j^{-N_P}} \\\\right) - \\\\left(x_j^T\\\\cdot\\\\sum_i^{I} x_i^T\\\\right) = 0$\n",
      "\n",
      "$\\\\min\\\\left[\\\\frac{L}{F}\\\\right]\\\\to \\\\frac{d}{dM^*} \\\\frac{L}{F} = 0$\n",
      "\n",
      "</div>"
     ]
    },
    {
     "cell_type": "markdown",
     "metadata": {
      "slideshow": {
       "slide_type": "slide"
      }
     },
     "source": [
      "## Problem Statement\n",
      "\n",
      "In PyNE, we wanted to build a very fast solver for this system (more or this later).  One major speed up is to reduce the system from 3 equations and 3 unknowns to 1 equation and 1 unknown -- namely $M^*$."
     ]
    },
    {
     "cell_type": "code",
     "collapsed": false,
     "input": [
      "table = [\n",
      "    (\"Nuclide\", \"VISION $x^F$ [2]\"),\n",
      "    ({\"style\": {\"text-align\": \"left\"}, \"value\": \"U-234\"}, \"0.00018\"),\n",
      "    ({\"style\": {\"text-align\": \"left\"}, \"value\": \"U-235\"}, \"0.00819\"),\n",
      "    ({\"style\": {\"text-align\": \"left\"}, \"value\": \"U-236\"}, \"0.00611\"),\n",
      "    ({\"style\": {\"text-align\": \"left\"}, \"value\": \"U-238\"}, \"0.98552\"),\n",
      "    ]\n",
      "meta, tab = htmltable(table, 'visionfeed', title=\"Table I. Feed flow concentrations for a four component uranium re-enrichment cascade.\", )\n",
      "print meta, tab"
     ],
     "language": "python",
     "metadata": {
      "slideshow": {
       "slide_type": "skip"
      }
     },
     "outputs": [
      {
       "output_type": "stream",
       "stream": "stdout",
       "text": [
        "<script type=\"text/javascript\">\n",
        "window.onload=function(){\n",
        "    var tfrow = document.getElementById('visionfeedid').rows.length;\n",
        "    var tbRow=[];\n",
        "    for (var i=1;i<tfrow;i++) {\n",
        "        tbRow[i]=document.getElementById('visionfeedid').rows[i];\n",
        "        tbRow[i].onmouseover = function(){this.style.backgroundColor = '#f3f8aa';};\n",
        "        tbRow[i].onmouseout = function() {this.style.backgroundColor = '#ffffff';};\n",
        "    }\n",
        "};\n",
        "</script>\n",
        "<style type=\"text/css\">\n",
        "table.visionfeedclass {width:80%;border-color:#a9a9a9;color:#333333;border-collapse:collapse;margin:auto;border-width:1px;text-align:center;}\n",
        "table.visionfeedclass th {padding:4px;border-color:#a9a9a9;order-style:solid;border-width:1px;background-color:#b8b8b8;text-align:left;}\n",
        "table.visionfeedclass tr {background-color:#ffffff;text-align:center;}\n",
        "table.visionfeedclass td {padding:4px;border-color:#a9a9a9;border-style:solid;border-width:1px;text-align:center;}\n",
        "</style>\n",
        "<div style=\"text-align:center;\"><b>Table I. Feed flow concentrations for a four component uranium re-enrichment cascade.</b></div>\n",
        "<table id=\"visionfeedid\" class=\"visionfeedclass\" border=\"1\">\n",
        "<tr><th>Nuclide</th><th>VISION $x^F$ [2]</th></tr>\n",
        "<tr><td style=\"text-align:left;\">U-234</td><td>0.00018</td></tr>\n",
        "<tr><td style=\"text-align:left;\">U-235</td><td>0.00819</td></tr>\n",
        "<tr><td style=\"text-align:left;\">U-236</td><td>0.00611</td></tr>\n",
        "<tr><td style=\"text-align:left;\">U-238</td><td>0.98552</td></tr>\n",
        "</table>\n"
       ]
      }
     ],
     "prompt_number": 7
    },
    {
     "cell_type": "markdown",
     "metadata": {
      "slideshow": {
       "slide_type": "fragment"
      }
     },
     "source": [
      "<script type=\"text/javascript\">\n",
      "window.onload=function(){\n",
      "    var tfrow = document.getElementById('visionfeedid').rows.length;\n",
      "    var tbRow=[];\n",
      "    for (var i=1;i<tfrow;i++) {\n",
      "        tbRow[i]=document.getElementById('visionfeedid').rows[i];\n",
      "        tbRow[i].onmouseover = function(){this.style.backgroundColor = '#f3f8aa';};\n",
      "        tbRow[i].onmouseout = function() {this.style.backgroundColor = '#ffffff';};\n",
      "    }\n",
      "};\n",
      "</script>\n",
      "<style type=\"text/css\">\n",
      "table.visionfeedclass {width:80%;border-color:#a9a9a9;color:#333333;border-collapse:collapse;margin:auto;border-width:1px;text-align:center;}\n",
      "table.visionfeedclass th {padding:4px;border-color:#a9a9a9;order-style:solid;border-width:1px;background-color:#b8b8b8;text-align:left;}\n",
      "table.visionfeedclass tr {background-color:#ffffff;text-align:center;}\n",
      "table.visionfeedclass td {padding:4px;border-color:#a9a9a9;border-style:solid;border-width:1px;text-align:center;}\n",
      "</style>\n",
      "<div style=\"text-align:center;\"><b>Table I. Feed flow concentrations for a four component uranium re-enrichment cascade.</b></div>\n",
      "<table id=\"visionfeedid\" class=\"visionfeedclass\" border=\"1\">\n",
      "<tr><th>Nuclide</th><th>VISION $x^F$ [2]</th></tr>\n",
      "<tr><td style=\"text-align:left;\">U-234</td><td>0.00018</td></tr>\n",
      "<tr><td style=\"text-align:left;\">U-235</td><td>0.00819</td></tr>\n",
      "<tr><td style=\"text-align:left;\">U-236</td><td>0.00611</td></tr>\n",
      "<tr><td style=\"text-align:left;\">U-238</td><td>0.98552</td></tr>\n",
      "</table>"
     ]
    },
    {
     "cell_type": "markdown",
     "metadata": {
      "slideshow": {
       "slide_type": "slide"
      }
     },
     "source": [
      "## Elimination of $N_T$\n",
      "\n",
      "Luckily, there is an analytic solution to $N_T(N_P, M^*)$\n",
      "\n",
      "<div style=\"text-align:center;\">\n",
      "\n",
      "$\\\\begin{array}{lcl}\n",
      "N_T & = & \\\\left[M^{*} \\\\log{\\\\left (\\\\alpha \\\\right )} - M_{j} \\\\log{\\\\left (\\\\alpha \\\\right )} + \\\\log{\\\\left (x^{T}_{j} \\\\right )} + \n",
      "\\\\log{\\\\left (\\\\frac{-1.0 + \\\\frac{x^{P}_{j}}{x^{F}_{j}}}{x^{P}_{j} - x^{T}_{j}} \\\\right )}  \\\\right. \\\\\\\\\n",
      "& & \\\\left. - \\\\log{\\\\left (\\\\frac{\\\\alpha^{N_{P} \\\\left(- M^{*} + M_{j}\\\\right)} \\\\left(x^{F}_{j} x^{P}_{j} - x^{P}_{j} x^{T}_{j}\\\\right)}\n",
      "{- x^{F}_{j} x^{P}_{j} + x^{F}_{j} x^{T}_{j}} + 1 \\\\right )}\\\\right] \\\\times \\\\frac{1}{\\\\left(- M^{*} + M_{j}\\\\right) \\\\log{\\\\left (\\\\alpha \\\\right )}} \\\\\\\\\n",
      "\\\\end{array}\n",
      "$\n",
      "\n",
      "</div>"
     ]
    },
    {
     "cell_type": "markdown",
     "metadata": {
      "slideshow": {
       "slide_type": "slide"
      }
     },
     "source": [
      "## Elimination of $N_T$\n",
      "\n",
      "<div style=\"text-align:center;\"><img src=\"figs/nt_closed.svg\" width=\"45%\" /><h3>Figure 2: $N_T(N_P, M^*)$ for a four component uranium re-enrichment cascade with $N_P\\in[1,50]$ and $M^*=236.547$.</h3></div>"
     ]
    },
    {
     "cell_type": "markdown",
     "metadata": {
      "slideshow": {
       "slide_type": "slide"
      }
     },
     "source": [
      "## Questions\n",
      "\n",
      "<div style=\"text-align:center;\"><img src=\"http://24.media.tumblr.com/tumblr_m1rk6gkLao1r38bjro10_500.jpg\" width=\"80%\" /></div>"
     ]
    },
    {
     "cell_type": "markdown",
     "metadata": {
      "slideshow": {
       "slide_type": "slide"
      }
     },
     "source": [
      "## References\n",
      "\n",
      "1. Anthony Scopatz, \"Erichment: M* vs Flowrate\", URL: http://pynesim.org/gallery/enrichment_mstar_vs_flowrate.html\n",
      "2. J. J. JACOBSON, G. E. MATTHERN, S. J. PIET, and D. E. SHROPSHIRE, \u201cVISION : Verifiable Fuel Cycle Simulation Model Advances in Nuclear Fuel Management,\u201d , Idaho National Laboratory (2009).\n",
      "3. Nuclear Energy Data Files. Los Alamos National Laboratory - Theoretical Nuclear Physics. 2009. URL: http://t2.lanl.gov/data/data.html"
     ]
    },
    {
     "cell_type": "code",
     "collapsed": false,
     "input": [
      "!make"
     ],
     "language": "python",
     "metadata": {
      "slideshow": {
       "slide_type": "skip"
      }
     },
     "outputs": [
      {
       "output_type": "stream",
       "stream": "stdout",
       "text": [
        "cp -r ~/nbconvert/reveal . \r\n",
        "rm -rf reveal/.git* \r\n",
        "mkdir -p js \r\n",
        "cp ~/nbconvert/js/mathjax-onload.js js\r\n",
        "cp classy.css reveal/css/theme/ \r\n",
        "python ~/nbconvert/nbconvert.py -f reveal scopatz_mc13.ipynb \r\n"
       ]
      },
      {
       "output_type": "stream",
       "stream": "stdout",
       "text": [
        "sed -i 's:reveal/css/theme/simple.css:reveal/css/theme/classy.css:' scopatz_mc13_slides.html \r\n",
        "sed -i 's:class=\"fragment\" class=\"text_cell_render:class=\"fragment text_cell_render:' scopatz_mc13_slides.html \r\n"
       ]
      },
      {
       "output_type": "stream",
       "stream": "stdout",
       "text": [
        "sed -i 's/.rendered_html ul{list-style:disc;margin:1em 2em;}/.rendered_html ul{list-style:disc;margin:0em 2em;}/' scopatz_mc13_slides.html \r\n",
        "sed -i '/<\\!-- Social buttons -->/,/<\\!-- End of social buttons -->/d' scopatz_mc13_slides.html \r\n"
       ]
      }
     ],
     "prompt_number": 14
    },
    {
     "cell_type": "code",
     "collapsed": false,
     "input": [],
     "language": "python",
     "metadata": {},
     "outputs": [],
     "prompt_number": 3
    }
   ],
   "metadata": {}
  }
 ]
}